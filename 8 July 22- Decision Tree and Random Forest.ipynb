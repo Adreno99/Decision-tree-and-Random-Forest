{
 "cells": [
  {
   "cell_type": "markdown",
   "id": "224bc128",
   "metadata": {},
   "source": [
    "# Step A: Data Pre-Processing"
   ]
  },
  {
   "cell_type": "markdown",
   "id": "2d158e3e",
   "metadata": {},
   "source": [
    "# Step 1- Importing Libraries"
   ]
  },
  {
   "cell_type": "code",
   "execution_count": 1,
   "id": "05a127c2",
   "metadata": {},
   "outputs": [
    {
     "name": "stdout",
     "output_type": "stream",
     "text": [
      "Collecting category_encoders\n",
      "  Using cached category_encoders-2.5.0-py2.py3-none-any.whl (69 kB)\n",
      "Requirement already satisfied: pandas>=1.0.5 in c:\\users\\tukuna\\.conda\\envs\\tensor\\lib\\site-packages (from category_encoders) (1.3.2)\n",
      "Collecting statsmodels>=0.9.0\n",
      "  Downloading statsmodels-0.13.2-cp38-cp38-win_amd64.whl (9.1 MB)\n",
      "Requirement already satisfied: scikit-learn>=0.20.0 in c:\\users\\tukuna\\.conda\\envs\\tensor\\lib\\site-packages (from category_encoders) (1.1.1)\n",
      "Requirement already satisfied: numpy>=1.14.0 in c:\\users\\tukuna\\.conda\\envs\\tensor\\lib\\site-packages (from category_encoders) (1.18.5)\n",
      "Collecting patsy>=0.5.1\n",
      "  Downloading patsy-0.5.2-py2.py3-none-any.whl (233 kB)\n",
      "Requirement already satisfied: scipy>=1.0.0 in c:\\users\\tukuna\\.conda\\envs\\tensor\\lib\\site-packages (from category_encoders) (1.4.1)\n",
      "Requirement already satisfied: pytz>=2017.3 in c:\\users\\tukuna\\.conda\\envs\\tensor\\lib\\site-packages (from pandas>=1.0.5->category_encoders) (2021.1)\n",
      "Requirement already satisfied: python-dateutil>=2.7.3 in c:\\users\\tukuna\\.conda\\envs\\tensor\\lib\\site-packages (from pandas>=1.0.5->category_encoders) (2.8.2)\n",
      "Requirement already satisfied: six in c:\\users\\tukuna\\.conda\\envs\\tensor\\lib\\site-packages (from patsy>=0.5.1->category_encoders) (1.16.0)\n",
      "Requirement already satisfied: threadpoolctl>=2.0.0 in c:\\users\\tukuna\\.conda\\envs\\tensor\\lib\\site-packages (from scikit-learn>=0.20.0->category_encoders) (3.1.0)\n",
      "Requirement already satisfied: joblib>=1.0.0 in c:\\users\\tukuna\\.conda\\envs\\tensor\\lib\\site-packages (from scikit-learn>=0.20.0->category_encoders) (1.1.0)\n",
      "Collecting packaging>=21.3\n",
      "  Using cached packaging-21.3-py3-none-any.whl (40 kB)\n",
      "Requirement already satisfied: pyparsing!=3.0.5,>=2.0.2 in c:\\users\\tukuna\\.conda\\envs\\tensor\\lib\\site-packages (from packaging>=21.3->statsmodels>=0.9.0->category_encoders) (2.4.7)\n",
      "Installing collected packages: patsy, packaging, statsmodels, category-encoders\n",
      "  Attempting uninstall: packaging\n",
      "    Found existing installation: packaging 21.0\n",
      "    Uninstalling packaging-21.0:\n",
      "      Successfully uninstalled packaging-21.0\n",
      "Successfully installed category-encoders-2.5.0 packaging-21.3 patsy-0.5.2 statsmodels-0.13.2\n"
     ]
    }
   ],
   "source": [
    "!pip install category_encoders"
   ]
  },
  {
   "cell_type": "code",
   "execution_count": 2,
   "id": "de10dcbe",
   "metadata": {},
   "outputs": [],
   "source": [
    "import numpy as np\n",
    "import pandas as pd"
   ]
  },
  {
   "cell_type": "markdown",
   "id": "74d6c72b",
   "metadata": {},
   "source": [
    "## Step 2: importing dataset"
   ]
  },
  {
   "cell_type": "code",
   "execution_count": 3,
   "id": "0c81c018",
   "metadata": {},
   "outputs": [],
   "source": [
    "dataset=pd.read_csv(\"vehicle.data\")"
   ]
  },
  {
   "cell_type": "code",
   "execution_count": 4,
   "id": "bc0e09f3",
   "metadata": {},
   "outputs": [
    {
     "data": {
      "text/html": [
       "<div>\n",
       "<style scoped>\n",
       "    .dataframe tbody tr th:only-of-type {\n",
       "        vertical-align: middle;\n",
       "    }\n",
       "\n",
       "    .dataframe tbody tr th {\n",
       "        vertical-align: top;\n",
       "    }\n",
       "\n",
       "    .dataframe thead th {\n",
       "        text-align: right;\n",
       "    }\n",
       "</style>\n",
       "<table border=\"1\" class=\"dataframe\">\n",
       "  <thead>\n",
       "    <tr style=\"text-align: right;\">\n",
       "      <th></th>\n",
       "      <th>vhigh</th>\n",
       "      <th>vhigh.1</th>\n",
       "      <th>2</th>\n",
       "      <th>2.1</th>\n",
       "      <th>small</th>\n",
       "      <th>low</th>\n",
       "      <th>unacc</th>\n",
       "    </tr>\n",
       "  </thead>\n",
       "  <tbody>\n",
       "    <tr>\n",
       "      <th>0</th>\n",
       "      <td>vhigh</td>\n",
       "      <td>vhigh</td>\n",
       "      <td>2</td>\n",
       "      <td>2</td>\n",
       "      <td>small</td>\n",
       "      <td>med</td>\n",
       "      <td>unacc</td>\n",
       "    </tr>\n",
       "    <tr>\n",
       "      <th>1</th>\n",
       "      <td>vhigh</td>\n",
       "      <td>vhigh</td>\n",
       "      <td>2</td>\n",
       "      <td>2</td>\n",
       "      <td>small</td>\n",
       "      <td>high</td>\n",
       "      <td>unacc</td>\n",
       "    </tr>\n",
       "    <tr>\n",
       "      <th>2</th>\n",
       "      <td>vhigh</td>\n",
       "      <td>vhigh</td>\n",
       "      <td>2</td>\n",
       "      <td>2</td>\n",
       "      <td>med</td>\n",
       "      <td>low</td>\n",
       "      <td>unacc</td>\n",
       "    </tr>\n",
       "    <tr>\n",
       "      <th>3</th>\n",
       "      <td>vhigh</td>\n",
       "      <td>vhigh</td>\n",
       "      <td>2</td>\n",
       "      <td>2</td>\n",
       "      <td>med</td>\n",
       "      <td>med</td>\n",
       "      <td>unacc</td>\n",
       "    </tr>\n",
       "    <tr>\n",
       "      <th>4</th>\n",
       "      <td>vhigh</td>\n",
       "      <td>vhigh</td>\n",
       "      <td>2</td>\n",
       "      <td>2</td>\n",
       "      <td>med</td>\n",
       "      <td>high</td>\n",
       "      <td>unacc</td>\n",
       "    </tr>\n",
       "    <tr>\n",
       "      <th>...</th>\n",
       "      <td>...</td>\n",
       "      <td>...</td>\n",
       "      <td>...</td>\n",
       "      <td>...</td>\n",
       "      <td>...</td>\n",
       "      <td>...</td>\n",
       "      <td>...</td>\n",
       "    </tr>\n",
       "    <tr>\n",
       "      <th>1722</th>\n",
       "      <td>low</td>\n",
       "      <td>low</td>\n",
       "      <td>5more</td>\n",
       "      <td>more</td>\n",
       "      <td>med</td>\n",
       "      <td>med</td>\n",
       "      <td>good</td>\n",
       "    </tr>\n",
       "    <tr>\n",
       "      <th>1723</th>\n",
       "      <td>low</td>\n",
       "      <td>low</td>\n",
       "      <td>5more</td>\n",
       "      <td>more</td>\n",
       "      <td>med</td>\n",
       "      <td>high</td>\n",
       "      <td>vgood</td>\n",
       "    </tr>\n",
       "    <tr>\n",
       "      <th>1724</th>\n",
       "      <td>low</td>\n",
       "      <td>low</td>\n",
       "      <td>5more</td>\n",
       "      <td>more</td>\n",
       "      <td>big</td>\n",
       "      <td>low</td>\n",
       "      <td>unacc</td>\n",
       "    </tr>\n",
       "    <tr>\n",
       "      <th>1725</th>\n",
       "      <td>low</td>\n",
       "      <td>low</td>\n",
       "      <td>5more</td>\n",
       "      <td>more</td>\n",
       "      <td>big</td>\n",
       "      <td>med</td>\n",
       "      <td>good</td>\n",
       "    </tr>\n",
       "    <tr>\n",
       "      <th>1726</th>\n",
       "      <td>low</td>\n",
       "      <td>low</td>\n",
       "      <td>5more</td>\n",
       "      <td>more</td>\n",
       "      <td>big</td>\n",
       "      <td>high</td>\n",
       "      <td>vgood</td>\n",
       "    </tr>\n",
       "  </tbody>\n",
       "</table>\n",
       "<p>1727 rows × 7 columns</p>\n",
       "</div>"
      ],
      "text/plain": [
       "      vhigh vhigh.1      2   2.1  small   low  unacc\n",
       "0     vhigh   vhigh      2     2  small   med  unacc\n",
       "1     vhigh   vhigh      2     2  small  high  unacc\n",
       "2     vhigh   vhigh      2     2    med   low  unacc\n",
       "3     vhigh   vhigh      2     2    med   med  unacc\n",
       "4     vhigh   vhigh      2     2    med  high  unacc\n",
       "...     ...     ...    ...   ...    ...   ...    ...\n",
       "1722    low     low  5more  more    med   med   good\n",
       "1723    low     low  5more  more    med  high  vgood\n",
       "1724    low     low  5more  more    big   low  unacc\n",
       "1725    low     low  5more  more    big   med   good\n",
       "1726    low     low  5more  more    big  high  vgood\n",
       "\n",
       "[1727 rows x 7 columns]"
      ]
     },
     "execution_count": 4,
     "metadata": {},
     "output_type": "execute_result"
    }
   ],
   "source": [
    "dataset"
   ]
  },
  {
   "cell_type": "code",
   "execution_count": 5,
   "id": "53074baf",
   "metadata": {},
   "outputs": [
    {
     "data": {
      "text/html": [
       "<div>\n",
       "<style scoped>\n",
       "    .dataframe tbody tr th:only-of-type {\n",
       "        vertical-align: middle;\n",
       "    }\n",
       "\n",
       "    .dataframe tbody tr th {\n",
       "        vertical-align: top;\n",
       "    }\n",
       "\n",
       "    .dataframe thead th {\n",
       "        text-align: right;\n",
       "    }\n",
       "</style>\n",
       "<table border=\"1\" class=\"dataframe\">\n",
       "  <thead>\n",
       "    <tr style=\"text-align: right;\">\n",
       "      <th></th>\n",
       "      <th>vhigh</th>\n",
       "      <th>vhigh.1</th>\n",
       "      <th>2</th>\n",
       "      <th>2.1</th>\n",
       "      <th>small</th>\n",
       "      <th>low</th>\n",
       "      <th>unacc</th>\n",
       "    </tr>\n",
       "  </thead>\n",
       "  <tbody>\n",
       "    <tr>\n",
       "      <th>0</th>\n",
       "      <td>vhigh</td>\n",
       "      <td>vhigh</td>\n",
       "      <td>2</td>\n",
       "      <td>2</td>\n",
       "      <td>small</td>\n",
       "      <td>med</td>\n",
       "      <td>unacc</td>\n",
       "    </tr>\n",
       "    <tr>\n",
       "      <th>1</th>\n",
       "      <td>vhigh</td>\n",
       "      <td>vhigh</td>\n",
       "      <td>2</td>\n",
       "      <td>2</td>\n",
       "      <td>small</td>\n",
       "      <td>high</td>\n",
       "      <td>unacc</td>\n",
       "    </tr>\n",
       "    <tr>\n",
       "      <th>2</th>\n",
       "      <td>vhigh</td>\n",
       "      <td>vhigh</td>\n",
       "      <td>2</td>\n",
       "      <td>2</td>\n",
       "      <td>med</td>\n",
       "      <td>low</td>\n",
       "      <td>unacc</td>\n",
       "    </tr>\n",
       "    <tr>\n",
       "      <th>3</th>\n",
       "      <td>vhigh</td>\n",
       "      <td>vhigh</td>\n",
       "      <td>2</td>\n",
       "      <td>2</td>\n",
       "      <td>med</td>\n",
       "      <td>med</td>\n",
       "      <td>unacc</td>\n",
       "    </tr>\n",
       "    <tr>\n",
       "      <th>4</th>\n",
       "      <td>vhigh</td>\n",
       "      <td>vhigh</td>\n",
       "      <td>2</td>\n",
       "      <td>2</td>\n",
       "      <td>med</td>\n",
       "      <td>high</td>\n",
       "      <td>unacc</td>\n",
       "    </tr>\n",
       "  </tbody>\n",
       "</table>\n",
       "</div>"
      ],
      "text/plain": [
       "   vhigh vhigh.1  2 2.1  small   low  unacc\n",
       "0  vhigh   vhigh  2   2  small   med  unacc\n",
       "1  vhigh   vhigh  2   2  small  high  unacc\n",
       "2  vhigh   vhigh  2   2    med   low  unacc\n",
       "3  vhigh   vhigh  2   2    med   med  unacc\n",
       "4  vhigh   vhigh  2   2    med  high  unacc"
      ]
     },
     "execution_count": 5,
     "metadata": {},
     "output_type": "execute_result"
    }
   ],
   "source": [
    "dataset.head()"
   ]
  },
  {
   "cell_type": "markdown",
   "id": "a2c35f4c",
   "metadata": {},
   "source": [
    "## Step 3: Feature matrix and Dependent variable vector"
   ]
  },
  {
   "cell_type": "code",
   "execution_count": 6,
   "id": "bd92c9f6",
   "metadata": {},
   "outputs": [],
   "source": [
    "x=dataset.iloc[:, :-1].values\n",
    "y=dataset.iloc[:, -1].values"
   ]
  },
  {
   "cell_type": "code",
   "execution_count": 7,
   "id": "f9455b1b",
   "metadata": {
    "scrolled": false
   },
   "outputs": [
    {
     "data": {
      "text/plain": [
       "array([['vhigh', 'vhigh', '2', '2', 'small', 'med'],\n",
       "       ['vhigh', 'vhigh', '2', '2', 'small', 'high'],\n",
       "       ['vhigh', 'vhigh', '2', '2', 'med', 'low'],\n",
       "       ...,\n",
       "       ['low', 'low', '5more', 'more', 'big', 'low'],\n",
       "       ['low', 'low', '5more', 'more', 'big', 'med'],\n",
       "       ['low', 'low', '5more', 'more', 'big', 'high']], dtype=object)"
      ]
     },
     "execution_count": 7,
     "metadata": {},
     "output_type": "execute_result"
    }
   ],
   "source": [
    "x"
   ]
  },
  {
   "cell_type": "code",
   "execution_count": 8,
   "id": "8c743eb4",
   "metadata": {},
   "outputs": [
    {
     "data": {
      "text/plain": [
       "array(['unacc', 'unacc', 'unacc', ..., 'unacc', 'good', 'vgood'],\n",
       "      dtype=object)"
      ]
     },
     "execution_count": 8,
     "metadata": {},
     "output_type": "execute_result"
    }
   ],
   "source": [
    "y"
   ]
  },
  {
   "cell_type": "markdown",
   "id": "22b92a8d",
   "metadata": {},
   "source": [
    "## Step 4- Replace missing values(not required)"
   ]
  },
  {
   "cell_type": "markdown",
   "id": "52952ceb",
   "metadata": {},
   "source": [
    "## Step 5- Encoding"
   ]
  },
  {
   "cell_type": "markdown",
   "id": "afeb0f73",
   "metadata": {},
   "source": [
    "### Feature matrix"
   ]
  },
  {
   "cell_type": "code",
   "execution_count": 9,
   "id": "b4f9841e",
   "metadata": {},
   "outputs": [],
   "source": [
    "from sklearn.preprocessing import OrdinalEncoder\n",
    "from sklearn.compose import ColumnTransformer"
   ]
  },
  {
   "cell_type": "code",
   "execution_count": 10,
   "id": "512268e8",
   "metadata": {
    "scrolled": false
   },
   "outputs": [],
   "source": [
    "enc=OrdinalEncoder()\n",
    "x=enc.fit_transform(x)"
   ]
  },
  {
   "cell_type": "code",
   "execution_count": 11,
   "id": "adf235b9",
   "metadata": {},
   "outputs": [
    {
     "data": {
      "text/plain": [
       "array([[3., 3., 0., 0., 2., 2.],\n",
       "       [3., 3., 0., 0., 2., 0.],\n",
       "       [3., 3., 0., 0., 1., 1.],\n",
       "       ...,\n",
       "       [1., 1., 3., 2., 0., 1.],\n",
       "       [1., 1., 3., 2., 0., 2.],\n",
       "       [1., 1., 3., 2., 0., 0.]])"
      ]
     },
     "execution_count": 11,
     "metadata": {},
     "output_type": "execute_result"
    }
   ],
   "source": [
    "x"
   ]
  },
  {
   "cell_type": "markdown",
   "id": "643b5815",
   "metadata": {},
   "source": [
    "### Dependent variable vector"
   ]
  },
  {
   "cell_type": "code",
   "execution_count": 12,
   "id": "10cfb228",
   "metadata": {},
   "outputs": [
    {
     "data": {
      "text/plain": [
       "array([2, 2, 2, ..., 2, 1, 3])"
      ]
     },
     "execution_count": 12,
     "metadata": {},
     "output_type": "execute_result"
    }
   ],
   "source": [
    "from sklearn.preprocessing import LabelEncoder\n",
    "le=LabelEncoder()\n",
    "y=np.array(le.fit_transform(y))\n",
    "y"
   ]
  },
  {
   "cell_type": "markdown",
   "id": "e66950c0",
   "metadata": {},
   "source": [
    "## Step 6- Splitting into training and testing dataset"
   ]
  },
  {
   "cell_type": "code",
   "execution_count": null,
   "id": "49639c48",
   "metadata": {},
   "outputs": [],
   "source": []
  },
  {
   "cell_type": "code",
   "execution_count": 13,
   "id": "fd5a18fa",
   "metadata": {},
   "outputs": [],
   "source": [
    "from sklearn.model_selection import train_test_split\n",
    "xtrain,xtest,ytrain,ytest=train_test_split(x,y,test_size=0.2,random_state=0)"
   ]
  },
  {
   "cell_type": "code",
   "execution_count": 14,
   "id": "9382a374",
   "metadata": {
    "scrolled": false
   },
   "outputs": [
    {
     "data": {
      "text/plain": [
       "array([[1., 1., 1., 0., 2., 0.],\n",
       "       [1., 0., 2., 0., 0., 0.],\n",
       "       [3., 1., 1., 1., 2., 0.],\n",
       "       ...,\n",
       "       [1., 1., 1., 0., 0., 2.],\n",
       "       [0., 0., 0., 2., 2., 0.],\n",
       "       [0., 2., 1., 1., 2., 2.]])"
      ]
     },
     "execution_count": 14,
     "metadata": {},
     "output_type": "execute_result"
    }
   ],
   "source": [
    "xtrain"
   ]
  },
  {
   "cell_type": "code",
   "execution_count": 15,
   "id": "dcb30728",
   "metadata": {},
   "outputs": [
    {
     "data": {
      "text/plain": [
       "array([2, 2, 0, ..., 2, 2, 2])"
      ]
     },
     "execution_count": 15,
     "metadata": {},
     "output_type": "execute_result"
    }
   ],
   "source": [
    "ytrain"
   ]
  },
  {
   "cell_type": "markdown",
   "id": "0a12fda4",
   "metadata": {},
   "source": [
    "## Step 7- Feature Scaling (not required because no huge variations among data)"
   ]
  },
  {
   "cell_type": "code",
   "execution_count": null,
   "id": "d5552b9f",
   "metadata": {},
   "outputs": [],
   "source": []
  },
  {
   "cell_type": "markdown",
   "id": "e07f0c03",
   "metadata": {},
   "source": [
    "# Step B: Build Classification model"
   ]
  },
  {
   "cell_type": "markdown",
   "id": "26be9577",
   "metadata": {},
   "source": [
    "## Logistic Regression model"
   ]
  },
  {
   "cell_type": "code",
   "execution_count": 16,
   "id": "73f761f8",
   "metadata": {},
   "outputs": [
    {
     "data": {
      "text/html": [
       "<style>#sk-container-id-1 {color: black;background-color: white;}#sk-container-id-1 pre{padding: 0;}#sk-container-id-1 div.sk-toggleable {background-color: white;}#sk-container-id-1 label.sk-toggleable__label {cursor: pointer;display: block;width: 100%;margin-bottom: 0;padding: 0.3em;box-sizing: border-box;text-align: center;}#sk-container-id-1 label.sk-toggleable__label-arrow:before {content: \"▸\";float: left;margin-right: 0.25em;color: #696969;}#sk-container-id-1 label.sk-toggleable__label-arrow:hover:before {color: black;}#sk-container-id-1 div.sk-estimator:hover label.sk-toggleable__label-arrow:before {color: black;}#sk-container-id-1 div.sk-toggleable__content {max-height: 0;max-width: 0;overflow: hidden;text-align: left;background-color: #f0f8ff;}#sk-container-id-1 div.sk-toggleable__content pre {margin: 0.2em;color: black;border-radius: 0.25em;background-color: #f0f8ff;}#sk-container-id-1 input.sk-toggleable__control:checked~div.sk-toggleable__content {max-height: 200px;max-width: 100%;overflow: auto;}#sk-container-id-1 input.sk-toggleable__control:checked~label.sk-toggleable__label-arrow:before {content: \"▾\";}#sk-container-id-1 div.sk-estimator input.sk-toggleable__control:checked~label.sk-toggleable__label {background-color: #d4ebff;}#sk-container-id-1 div.sk-label input.sk-toggleable__control:checked~label.sk-toggleable__label {background-color: #d4ebff;}#sk-container-id-1 input.sk-hidden--visually {border: 0;clip: rect(1px 1px 1px 1px);clip: rect(1px, 1px, 1px, 1px);height: 1px;margin: -1px;overflow: hidden;padding: 0;position: absolute;width: 1px;}#sk-container-id-1 div.sk-estimator {font-family: monospace;background-color: #f0f8ff;border: 1px dotted black;border-radius: 0.25em;box-sizing: border-box;margin-bottom: 0.5em;}#sk-container-id-1 div.sk-estimator:hover {background-color: #d4ebff;}#sk-container-id-1 div.sk-parallel-item::after {content: \"\";width: 100%;border-bottom: 1px solid gray;flex-grow: 1;}#sk-container-id-1 div.sk-label:hover label.sk-toggleable__label {background-color: #d4ebff;}#sk-container-id-1 div.sk-serial::before {content: \"\";position: absolute;border-left: 1px solid gray;box-sizing: border-box;top: 0;bottom: 0;left: 50%;z-index: 0;}#sk-container-id-1 div.sk-serial {display: flex;flex-direction: column;align-items: center;background-color: white;padding-right: 0.2em;padding-left: 0.2em;position: relative;}#sk-container-id-1 div.sk-item {position: relative;z-index: 1;}#sk-container-id-1 div.sk-parallel {display: flex;align-items: stretch;justify-content: center;background-color: white;position: relative;}#sk-container-id-1 div.sk-item::before, #sk-container-id-1 div.sk-parallel-item::before {content: \"\";position: absolute;border-left: 1px solid gray;box-sizing: border-box;top: 0;bottom: 0;left: 50%;z-index: -1;}#sk-container-id-1 div.sk-parallel-item {display: flex;flex-direction: column;z-index: 1;position: relative;background-color: white;}#sk-container-id-1 div.sk-parallel-item:first-child::after {align-self: flex-end;width: 50%;}#sk-container-id-1 div.sk-parallel-item:last-child::after {align-self: flex-start;width: 50%;}#sk-container-id-1 div.sk-parallel-item:only-child::after {width: 0;}#sk-container-id-1 div.sk-dashed-wrapped {border: 1px dashed gray;margin: 0 0.4em 0.5em 0.4em;box-sizing: border-box;padding-bottom: 0.4em;background-color: white;}#sk-container-id-1 div.sk-label label {font-family: monospace;font-weight: bold;display: inline-block;line-height: 1.2em;}#sk-container-id-1 div.sk-label-container {text-align: center;}#sk-container-id-1 div.sk-container {/* jupyter's `normalize.less` sets `[hidden] { display: none; }` but bootstrap.min.css set `[hidden] { display: none !important; }` so we also need the `!important` here to be able to override the default hidden behavior on the sphinx rendered scikit-learn.org. See: https://github.com/scikit-learn/scikit-learn/issues/21755 */display: inline-block !important;position: relative;}#sk-container-id-1 div.sk-text-repr-fallback {display: none;}</style><div id=\"sk-container-id-1\" class=\"sk-top-container\"><div class=\"sk-text-repr-fallback\"><pre>LogisticRegression(random_state=0)</pre><b>In a Jupyter environment, please rerun this cell to show the HTML representation or trust the notebook. <br />On GitHub, the HTML representation is unable to render, please try loading this page with nbviewer.org.</b></div><div class=\"sk-container\" hidden><div class=\"sk-item\"><div class=\"sk-estimator sk-toggleable\"><input class=\"sk-toggleable__control sk-hidden--visually\" id=\"sk-estimator-id-1\" type=\"checkbox\" checked><label for=\"sk-estimator-id-1\" class=\"sk-toggleable__label sk-toggleable__label-arrow\">LogisticRegression</label><div class=\"sk-toggleable__content\"><pre>LogisticRegression(random_state=0)</pre></div></div></div></div></div>"
      ],
      "text/plain": [
       "LogisticRegression(random_state=0)"
      ]
     },
     "execution_count": 16,
     "metadata": {},
     "output_type": "execute_result"
    }
   ],
   "source": [
    "from sklearn.linear_model import LogisticRegression\n",
    "LR=LogisticRegression(random_state=0)             \n",
    "LR.fit(xtrain,ytrain)"
   ]
  },
  {
   "cell_type": "code",
   "execution_count": 17,
   "id": "e98121e1",
   "metadata": {
    "scrolled": false
   },
   "outputs": [
    {
     "name": "stdout",
     "output_type": "stream",
     "text": [
      "[[2 0]\n",
      " [2 2]\n",
      " [2 2]\n",
      " [2 2]\n",
      " [2 2]\n",
      " [0 1]\n",
      " [2 2]\n",
      " [2 2]\n",
      " [2 1]\n",
      " [2 0]\n",
      " [2 2]\n",
      " [2 2]\n",
      " [2 0]\n",
      " [2 2]\n",
      " [2 0]\n",
      " [2 0]\n",
      " [2 2]\n",
      " [2 2]\n",
      " [2 0]\n",
      " [2 2]\n",
      " [0 2]\n",
      " [2 2]\n",
      " [2 1]\n",
      " [2 0]\n",
      " [2 2]\n",
      " [2 2]\n",
      " [2 0]\n",
      " [2 2]\n",
      " [0 2]\n",
      " [2 2]\n",
      " [2 2]\n",
      " [2 2]\n",
      " [2 2]\n",
      " [2 2]\n",
      " [2 1]\n",
      " [0 0]\n",
      " [2 2]\n",
      " [2 2]\n",
      " [2 2]\n",
      " [2 2]\n",
      " [2 0]\n",
      " [2 2]\n",
      " [2 0]\n",
      " [2 2]\n",
      " [2 2]\n",
      " [2 2]\n",
      " [2 0]\n",
      " [2 0]\n",
      " [2 2]\n",
      " [0 0]\n",
      " [2 0]\n",
      " [2 0]\n",
      " [2 2]\n",
      " [2 0]\n",
      " [2 2]\n",
      " [2 2]\n",
      " [0 2]\n",
      " [2 2]\n",
      " [2 2]\n",
      " [2 0]\n",
      " [0 2]\n",
      " [0 2]\n",
      " [2 0]\n",
      " [2 2]\n",
      " [0 0]\n",
      " [2 2]\n",
      " [2 2]\n",
      " [2 2]\n",
      " [2 2]\n",
      " [2 2]\n",
      " [0 2]\n",
      " [2 2]\n",
      " [0 2]\n",
      " [2 2]\n",
      " [0 1]\n",
      " [2 3]\n",
      " [2 2]\n",
      " [0 0]\n",
      " [2 2]\n",
      " [2 2]\n",
      " [3 0]\n",
      " [2 0]\n",
      " [2 0]\n",
      " [2 2]\n",
      " [0 0]\n",
      " [2 0]\n",
      " [2 2]\n",
      " [2 3]\n",
      " [2 2]\n",
      " [2 2]\n",
      " [2 2]\n",
      " [2 2]\n",
      " [0 2]\n",
      " [2 2]\n",
      " [2 2]\n",
      " [2 3]\n",
      " [0 0]\n",
      " [2 0]\n",
      " [2 2]\n",
      " [2 2]\n",
      " [2 2]\n",
      " [0 2]\n",
      " [2 2]\n",
      " [2 2]\n",
      " [2 3]\n",
      " [3 0]\n",
      " [2 2]\n",
      " [2 2]\n",
      " [2 0]\n",
      " [2 2]\n",
      " [2 2]\n",
      " [2 2]\n",
      " [2 2]\n",
      " [2 3]\n",
      " [2 2]\n",
      " [2 1]\n",
      " [2 2]\n",
      " [2 2]\n",
      " [2 2]\n",
      " [2 2]\n",
      " [2 2]\n",
      " [0 0]\n",
      " [0 2]\n",
      " [2 2]\n",
      " [2 2]\n",
      " [2 2]\n",
      " [2 2]\n",
      " [2 2]\n",
      " [2 1]\n",
      " [2 2]\n",
      " [2 2]\n",
      " [2 2]\n",
      " [2 3]\n",
      " [2 2]\n",
      " [3 2]\n",
      " [2 2]\n",
      " [2 2]\n",
      " [2 0]\n",
      " [2 0]\n",
      " [2 2]\n",
      " [2 2]\n",
      " [2 2]\n",
      " [2 2]\n",
      " [2 2]\n",
      " [2 2]\n",
      " [2 2]\n",
      " [2 2]\n",
      " [2 0]\n",
      " [2 2]\n",
      " [2 0]\n",
      " [0 3]\n",
      " [3 0]\n",
      " [2 0]\n",
      " [2 2]\n",
      " [2 2]\n",
      " [2 2]\n",
      " [0 2]\n",
      " [2 2]\n",
      " [2 2]\n",
      " [2 2]\n",
      " [2 0]\n",
      " [2 2]\n",
      " [2 2]\n",
      " [2 1]\n",
      " [2 2]\n",
      " [2 2]\n",
      " [2 0]\n",
      " [2 2]\n",
      " [2 2]\n",
      " [2 0]\n",
      " [2 2]\n",
      " [2 2]\n",
      " [2 2]\n",
      " [2 2]\n",
      " [2 3]\n",
      " [2 2]\n",
      " [2 2]\n",
      " [2 2]\n",
      " [2 2]\n",
      " [2 2]\n",
      " [2 2]\n",
      " [0 2]\n",
      " [2 2]\n",
      " [2 2]\n",
      " [2 2]\n",
      " [2 2]\n",
      " [2 2]\n",
      " [2 2]\n",
      " [2 2]\n",
      " [2 2]\n",
      " [2 2]\n",
      " [2 2]\n",
      " [2 2]\n",
      " [2 2]\n",
      " [2 2]\n",
      " [2 2]\n",
      " [2 2]\n",
      " [0 3]\n",
      " [2 2]\n",
      " [2 0]\n",
      " [2 2]\n",
      " [2 0]\n",
      " [2 2]\n",
      " [2 2]\n",
      " [2 2]\n",
      " [2 2]\n",
      " [2 2]\n",
      " [2 2]\n",
      " [2 2]\n",
      " [2 2]\n",
      " [2 2]\n",
      " [2 2]\n",
      " [2 2]\n",
      " [2 0]\n",
      " [2 2]\n",
      " [2 2]\n",
      " [2 2]\n",
      " [2 2]\n",
      " [2 2]\n",
      " [2 2]\n",
      " [2 2]\n",
      " [2 2]\n",
      " [2 0]\n",
      " [2 2]\n",
      " [2 2]\n",
      " [2 2]\n",
      " [2 0]\n",
      " [2 3]\n",
      " [2 0]\n",
      " [2 2]\n",
      " [2 0]\n",
      " [2 2]\n",
      " [0 0]\n",
      " [2 2]\n",
      " [2 0]\n",
      " [2 0]\n",
      " [0 0]\n",
      " [2 0]\n",
      " [2 2]\n",
      " [2 2]\n",
      " [2 2]\n",
      " [2 0]\n",
      " [2 2]\n",
      " [2 2]\n",
      " [2 1]\n",
      " [2 0]\n",
      " [0 2]\n",
      " [2 2]\n",
      " [2 2]\n",
      " [2 2]\n",
      " [2 2]\n",
      " [2 2]\n",
      " [2 1]\n",
      " [2 2]\n",
      " [2 2]\n",
      " [0 2]\n",
      " [2 0]\n",
      " [2 0]\n",
      " [2 2]\n",
      " [2 2]\n",
      " [2 1]\n",
      " [2 2]\n",
      " [0 2]\n",
      " [2 2]\n",
      " [2 2]\n",
      " [2 2]\n",
      " [2 2]\n",
      " [2 0]\n",
      " [0 0]\n",
      " [2 0]\n",
      " [2 2]\n",
      " [2 2]\n",
      " [2 0]\n",
      " [2 2]\n",
      " [2 2]\n",
      " [2 2]\n",
      " [2 0]\n",
      " [2 0]\n",
      " [0 0]\n",
      " [2 2]\n",
      " [2 2]\n",
      " [0 0]\n",
      " [2 0]\n",
      " [2 2]\n",
      " [2 2]\n",
      " [2 2]\n",
      " [2 2]\n",
      " [2 2]\n",
      " [2 3]\n",
      " [2 2]\n",
      " [2 2]\n",
      " [2 0]\n",
      " [2 2]\n",
      " [2 0]\n",
      " [2 2]\n",
      " [0 0]\n",
      " [2 2]\n",
      " [2 2]\n",
      " [2 2]\n",
      " [2 3]\n",
      " [2 2]\n",
      " [2 2]\n",
      " [2 2]\n",
      " [2 1]\n",
      " [0 3]\n",
      " [2 2]\n",
      " [2 3]\n",
      " [2 2]\n",
      " [2 2]\n",
      " [2 1]\n",
      " [2 1]\n",
      " [0 0]\n",
      " [2 2]\n",
      " [2 2]\n",
      " [0 0]\n",
      " [2 2]\n",
      " [2 2]\n",
      " [2 2]\n",
      " [2 2]\n",
      " [2 2]\n",
      " [2 2]\n",
      " [2 2]\n",
      " [3 0]\n",
      " [2 2]\n",
      " [2 2]\n",
      " [0 0]\n",
      " [2 0]\n",
      " [2 2]\n",
      " [2 0]\n",
      " [2 0]\n",
      " [2 2]\n",
      " [0 0]\n",
      " [0 3]\n",
      " [2 2]\n",
      " [2 3]\n",
      " [2 2]\n",
      " [3 2]\n",
      " [2 2]\n",
      " [2 2]\n",
      " [2 2]\n",
      " [2 2]\n",
      " [0 2]\n",
      " [2 2]\n",
      " [2 2]\n",
      " [2 2]\n",
      " [0 0]]\n"
     ]
    }
   ],
   "source": [
    "yestimatedLR=LR.predict(xtest)\n",
    "print(np.concatenate((yestimatedLR.reshape(len(yestimatedLR),1),ytest.reshape(len(ytest),1)),1))"
   ]
  },
  {
   "cell_type": "markdown",
   "id": "52620bcc",
   "metadata": {},
   "source": [
    "# Step C: Calculating metrics"
   ]
  },
  {
   "cell_type": "code",
   "execution_count": 18,
   "id": "85656c11",
   "metadata": {},
   "outputs": [
    {
     "name": "stdout",
     "output_type": "stream",
     "text": [
      "confusion matrix\n",
      "[[ 18   0  55   4]\n",
      " [  2   0  12   0]\n",
      " [ 16   0 221   2]\n",
      " [  4   0  12   0]]\n",
      "accuracy= 0.6907514450867052\n",
      "precision= [0.45       0.         0.73666667 0.        ]\n"
     ]
    },
    {
     "name": "stderr",
     "output_type": "stream",
     "text": [
      "C:\\Users\\TUKUNA\\.conda\\envs\\tensor\\lib\\site-packages\\sklearn\\metrics\\_classification.py:1327: UndefinedMetricWarning: Precision is ill-defined and being set to 0.0 in labels with no predicted samples. Use `zero_division` parameter to control this behavior.\n",
      "  _warn_prf(average, modifier, msg_start, len(result))\n"
     ]
    }
   ],
   "source": [
    "from sklearn.metrics import confusion_matrix,accuracy_score,precision_score\n",
    "cm=confusion_matrix(ytest, yestimatedLR) #confusion matrix\n",
    "print('confusion matrix')\n",
    "print(cm)\n",
    "print('accuracy=', accuracy_score(ytest,yestimatedLR)) \n",
    "print('precision=', precision_score(ytest,yestimatedLR, average=None,sample_weight=None)) "
   ]
  },
  {
   "cell_type": "code",
   "execution_count": 19,
   "id": "4d56545a",
   "metadata": {},
   "outputs": [
    {
     "name": "stdout",
     "output_type": "stream",
     "text": [
      "              precision    recall  f1-score   support\n",
      "\n",
      "           0       0.45      0.23      0.31        77\n",
      "           1       0.00      0.00      0.00        14\n",
      "           2       0.74      0.92      0.82       239\n",
      "           3       0.00      0.00      0.00        16\n",
      "\n",
      "    accuracy                           0.69       346\n",
      "   macro avg       0.30      0.29      0.28       346\n",
      "weighted avg       0.61      0.69      0.63       346\n",
      "\n"
     ]
    },
    {
     "name": "stderr",
     "output_type": "stream",
     "text": [
      "C:\\Users\\TUKUNA\\.conda\\envs\\tensor\\lib\\site-packages\\sklearn\\metrics\\_classification.py:1327: UndefinedMetricWarning: Precision and F-score are ill-defined and being set to 0.0 in labels with no predicted samples. Use `zero_division` parameter to control this behavior.\n",
      "  _warn_prf(average, modifier, msg_start, len(result))\n",
      "C:\\Users\\TUKUNA\\.conda\\envs\\tensor\\lib\\site-packages\\sklearn\\metrics\\_classification.py:1327: UndefinedMetricWarning: Precision and F-score are ill-defined and being set to 0.0 in labels with no predicted samples. Use `zero_division` parameter to control this behavior.\n",
      "  _warn_prf(average, modifier, msg_start, len(result))\n",
      "C:\\Users\\TUKUNA\\.conda\\envs\\tensor\\lib\\site-packages\\sklearn\\metrics\\_classification.py:1327: UndefinedMetricWarning: Precision and F-score are ill-defined and being set to 0.0 in labels with no predicted samples. Use `zero_division` parameter to control this behavior.\n",
      "  _warn_prf(average, modifier, msg_start, len(result))\n"
     ]
    }
   ],
   "source": [
    "from sklearn.metrics import classification_report\n",
    "print(classification_report(ytest, yestimatedLR))"
   ]
  },
  {
   "cell_type": "code",
   "execution_count": 20,
   "id": "d4f4fe4f",
   "metadata": {},
   "outputs": [
    {
     "name": "stdout",
     "output_type": "stream",
     "text": [
      "training data set score= 0.6915278783490224\n",
      "testing data set score= 0.6907514450867052\n"
     ]
    }
   ],
   "source": [
    "print(\"training data set score=\",LR.score(xtrain,ytrain))\n",
    "print(\"testing data set score=\",LR.score(xtest,ytest))"
   ]
  },
  {
   "cell_type": "markdown",
   "id": "873c7f17",
   "metadata": {},
   "source": [
    "### Decision Tree Classifier"
   ]
  },
  {
   "cell_type": "code",
   "execution_count": 21,
   "id": "0ac79bc0",
   "metadata": {},
   "outputs": [],
   "source": [
    "from sklearn.tree import DecisionTreeClassifier"
   ]
  },
  {
   "cell_type": "code",
   "execution_count": 22,
   "id": "c3978266",
   "metadata": {},
   "outputs": [
    {
     "data": {
      "text/html": [
       "<style>#sk-container-id-2 {color: black;background-color: white;}#sk-container-id-2 pre{padding: 0;}#sk-container-id-2 div.sk-toggleable {background-color: white;}#sk-container-id-2 label.sk-toggleable__label {cursor: pointer;display: block;width: 100%;margin-bottom: 0;padding: 0.3em;box-sizing: border-box;text-align: center;}#sk-container-id-2 label.sk-toggleable__label-arrow:before {content: \"▸\";float: left;margin-right: 0.25em;color: #696969;}#sk-container-id-2 label.sk-toggleable__label-arrow:hover:before {color: black;}#sk-container-id-2 div.sk-estimator:hover label.sk-toggleable__label-arrow:before {color: black;}#sk-container-id-2 div.sk-toggleable__content {max-height: 0;max-width: 0;overflow: hidden;text-align: left;background-color: #f0f8ff;}#sk-container-id-2 div.sk-toggleable__content pre {margin: 0.2em;color: black;border-radius: 0.25em;background-color: #f0f8ff;}#sk-container-id-2 input.sk-toggleable__control:checked~div.sk-toggleable__content {max-height: 200px;max-width: 100%;overflow: auto;}#sk-container-id-2 input.sk-toggleable__control:checked~label.sk-toggleable__label-arrow:before {content: \"▾\";}#sk-container-id-2 div.sk-estimator input.sk-toggleable__control:checked~label.sk-toggleable__label {background-color: #d4ebff;}#sk-container-id-2 div.sk-label input.sk-toggleable__control:checked~label.sk-toggleable__label {background-color: #d4ebff;}#sk-container-id-2 input.sk-hidden--visually {border: 0;clip: rect(1px 1px 1px 1px);clip: rect(1px, 1px, 1px, 1px);height: 1px;margin: -1px;overflow: hidden;padding: 0;position: absolute;width: 1px;}#sk-container-id-2 div.sk-estimator {font-family: monospace;background-color: #f0f8ff;border: 1px dotted black;border-radius: 0.25em;box-sizing: border-box;margin-bottom: 0.5em;}#sk-container-id-2 div.sk-estimator:hover {background-color: #d4ebff;}#sk-container-id-2 div.sk-parallel-item::after {content: \"\";width: 100%;border-bottom: 1px solid gray;flex-grow: 1;}#sk-container-id-2 div.sk-label:hover label.sk-toggleable__label {background-color: #d4ebff;}#sk-container-id-2 div.sk-serial::before {content: \"\";position: absolute;border-left: 1px solid gray;box-sizing: border-box;top: 0;bottom: 0;left: 50%;z-index: 0;}#sk-container-id-2 div.sk-serial {display: flex;flex-direction: column;align-items: center;background-color: white;padding-right: 0.2em;padding-left: 0.2em;position: relative;}#sk-container-id-2 div.sk-item {position: relative;z-index: 1;}#sk-container-id-2 div.sk-parallel {display: flex;align-items: stretch;justify-content: center;background-color: white;position: relative;}#sk-container-id-2 div.sk-item::before, #sk-container-id-2 div.sk-parallel-item::before {content: \"\";position: absolute;border-left: 1px solid gray;box-sizing: border-box;top: 0;bottom: 0;left: 50%;z-index: -1;}#sk-container-id-2 div.sk-parallel-item {display: flex;flex-direction: column;z-index: 1;position: relative;background-color: white;}#sk-container-id-2 div.sk-parallel-item:first-child::after {align-self: flex-end;width: 50%;}#sk-container-id-2 div.sk-parallel-item:last-child::after {align-self: flex-start;width: 50%;}#sk-container-id-2 div.sk-parallel-item:only-child::after {width: 0;}#sk-container-id-2 div.sk-dashed-wrapped {border: 1px dashed gray;margin: 0 0.4em 0.5em 0.4em;box-sizing: border-box;padding-bottom: 0.4em;background-color: white;}#sk-container-id-2 div.sk-label label {font-family: monospace;font-weight: bold;display: inline-block;line-height: 1.2em;}#sk-container-id-2 div.sk-label-container {text-align: center;}#sk-container-id-2 div.sk-container {/* jupyter's `normalize.less` sets `[hidden] { display: none; }` but bootstrap.min.css set `[hidden] { display: none !important; }` so we also need the `!important` here to be able to override the default hidden behavior on the sphinx rendered scikit-learn.org. See: https://github.com/scikit-learn/scikit-learn/issues/21755 */display: inline-block !important;position: relative;}#sk-container-id-2 div.sk-text-repr-fallback {display: none;}</style><div id=\"sk-container-id-2\" class=\"sk-top-container\"><div class=\"sk-text-repr-fallback\"><pre>DecisionTreeClassifier(criterion=&#x27;entropy&#x27;, random_state=0)</pre><b>In a Jupyter environment, please rerun this cell to show the HTML representation or trust the notebook. <br />On GitHub, the HTML representation is unable to render, please try loading this page with nbviewer.org.</b></div><div class=\"sk-container\" hidden><div class=\"sk-item\"><div class=\"sk-estimator sk-toggleable\"><input class=\"sk-toggleable__control sk-hidden--visually\" id=\"sk-estimator-id-2\" type=\"checkbox\" checked><label for=\"sk-estimator-id-2\" class=\"sk-toggleable__label sk-toggleable__label-arrow\">DecisionTreeClassifier</label><div class=\"sk-toggleable__content\"><pre>DecisionTreeClassifier(criterion=&#x27;entropy&#x27;, random_state=0)</pre></div></div></div></div></div>"
      ],
      "text/plain": [
       "DecisionTreeClassifier(criterion='entropy', random_state=0)"
      ]
     },
     "execution_count": 22,
     "metadata": {},
     "output_type": "execute_result"
    }
   ],
   "source": [
    "DT=DecisionTreeClassifier(criterion='entropy', random_state=0)\n",
    "DT.fit(xtrain,ytrain)"
   ]
  },
  {
   "cell_type": "code",
   "execution_count": 23,
   "id": "b10195d1",
   "metadata": {},
   "outputs": [],
   "source": [
    "yestimatedDTC=DT.predict(xtest)"
   ]
  },
  {
   "cell_type": "code",
   "execution_count": 24,
   "id": "add4f71a",
   "metadata": {},
   "outputs": [
    {
     "name": "stdout",
     "output_type": "stream",
     "text": [
      "confusion matrix\n",
      "[[ 69   3   5   0]\n",
      " [  1  13   0   0]\n",
      " [  0   0 239   0]\n",
      " [  0   0   0  16]]\n",
      "accuracy= 0.9739884393063584\n",
      "precision= [0.98571429 0.8125     0.9795082  1.        ]\n"
     ]
    }
   ],
   "source": [
    "cm1=confusion_matrix(ytest, yestimatedDTC) #confusion matrix\n",
    "print('confusion matrix')\n",
    "print(cm1)\n",
    "print('accuracy=', accuracy_score(ytest,yestimatedDTC)) \n",
    "print('precision=', precision_score(ytest,yestimatedDTC, average=None,sample_weight=None)) "
   ]
  },
  {
   "cell_type": "code",
   "execution_count": 25,
   "id": "d8b18ed5",
   "metadata": {},
   "outputs": [
    {
     "name": "stdout",
     "output_type": "stream",
     "text": [
      "              precision    recall  f1-score   support\n",
      "\n",
      "           0       0.99      0.90      0.94        77\n",
      "           1       0.81      0.93      0.87        14\n",
      "           2       0.98      1.00      0.99       239\n",
      "           3       1.00      1.00      1.00        16\n",
      "\n",
      "    accuracy                           0.97       346\n",
      "   macro avg       0.94      0.96      0.95       346\n",
      "weighted avg       0.98      0.97      0.97       346\n",
      "\n"
     ]
    }
   ],
   "source": [
    "print(classification_report(ytest, yestimatedDTC))"
   ]
  },
  {
   "cell_type": "markdown",
   "id": "292d9ebc",
   "metadata": {},
   "source": [
    "### Naive Bayes classifier"
   ]
  },
  {
   "cell_type": "code",
   "execution_count": 26,
   "id": "321380f6",
   "metadata": {},
   "outputs": [
    {
     "data": {
      "text/html": [
       "<style>#sk-container-id-3 {color: black;background-color: white;}#sk-container-id-3 pre{padding: 0;}#sk-container-id-3 div.sk-toggleable {background-color: white;}#sk-container-id-3 label.sk-toggleable__label {cursor: pointer;display: block;width: 100%;margin-bottom: 0;padding: 0.3em;box-sizing: border-box;text-align: center;}#sk-container-id-3 label.sk-toggleable__label-arrow:before {content: \"▸\";float: left;margin-right: 0.25em;color: #696969;}#sk-container-id-3 label.sk-toggleable__label-arrow:hover:before {color: black;}#sk-container-id-3 div.sk-estimator:hover label.sk-toggleable__label-arrow:before {color: black;}#sk-container-id-3 div.sk-toggleable__content {max-height: 0;max-width: 0;overflow: hidden;text-align: left;background-color: #f0f8ff;}#sk-container-id-3 div.sk-toggleable__content pre {margin: 0.2em;color: black;border-radius: 0.25em;background-color: #f0f8ff;}#sk-container-id-3 input.sk-toggleable__control:checked~div.sk-toggleable__content {max-height: 200px;max-width: 100%;overflow: auto;}#sk-container-id-3 input.sk-toggleable__control:checked~label.sk-toggleable__label-arrow:before {content: \"▾\";}#sk-container-id-3 div.sk-estimator input.sk-toggleable__control:checked~label.sk-toggleable__label {background-color: #d4ebff;}#sk-container-id-3 div.sk-label input.sk-toggleable__control:checked~label.sk-toggleable__label {background-color: #d4ebff;}#sk-container-id-3 input.sk-hidden--visually {border: 0;clip: rect(1px 1px 1px 1px);clip: rect(1px, 1px, 1px, 1px);height: 1px;margin: -1px;overflow: hidden;padding: 0;position: absolute;width: 1px;}#sk-container-id-3 div.sk-estimator {font-family: monospace;background-color: #f0f8ff;border: 1px dotted black;border-radius: 0.25em;box-sizing: border-box;margin-bottom: 0.5em;}#sk-container-id-3 div.sk-estimator:hover {background-color: #d4ebff;}#sk-container-id-3 div.sk-parallel-item::after {content: \"\";width: 100%;border-bottom: 1px solid gray;flex-grow: 1;}#sk-container-id-3 div.sk-label:hover label.sk-toggleable__label {background-color: #d4ebff;}#sk-container-id-3 div.sk-serial::before {content: \"\";position: absolute;border-left: 1px solid gray;box-sizing: border-box;top: 0;bottom: 0;left: 50%;z-index: 0;}#sk-container-id-3 div.sk-serial {display: flex;flex-direction: column;align-items: center;background-color: white;padding-right: 0.2em;padding-left: 0.2em;position: relative;}#sk-container-id-3 div.sk-item {position: relative;z-index: 1;}#sk-container-id-3 div.sk-parallel {display: flex;align-items: stretch;justify-content: center;background-color: white;position: relative;}#sk-container-id-3 div.sk-item::before, #sk-container-id-3 div.sk-parallel-item::before {content: \"\";position: absolute;border-left: 1px solid gray;box-sizing: border-box;top: 0;bottom: 0;left: 50%;z-index: -1;}#sk-container-id-3 div.sk-parallel-item {display: flex;flex-direction: column;z-index: 1;position: relative;background-color: white;}#sk-container-id-3 div.sk-parallel-item:first-child::after {align-self: flex-end;width: 50%;}#sk-container-id-3 div.sk-parallel-item:last-child::after {align-self: flex-start;width: 50%;}#sk-container-id-3 div.sk-parallel-item:only-child::after {width: 0;}#sk-container-id-3 div.sk-dashed-wrapped {border: 1px dashed gray;margin: 0 0.4em 0.5em 0.4em;box-sizing: border-box;padding-bottom: 0.4em;background-color: white;}#sk-container-id-3 div.sk-label label {font-family: monospace;font-weight: bold;display: inline-block;line-height: 1.2em;}#sk-container-id-3 div.sk-label-container {text-align: center;}#sk-container-id-3 div.sk-container {/* jupyter's `normalize.less` sets `[hidden] { display: none; }` but bootstrap.min.css set `[hidden] { display: none !important; }` so we also need the `!important` here to be able to override the default hidden behavior on the sphinx rendered scikit-learn.org. See: https://github.com/scikit-learn/scikit-learn/issues/21755 */display: inline-block !important;position: relative;}#sk-container-id-3 div.sk-text-repr-fallback {display: none;}</style><div id=\"sk-container-id-3\" class=\"sk-top-container\"><div class=\"sk-text-repr-fallback\"><pre>GaussianNB()</pre><b>In a Jupyter environment, please rerun this cell to show the HTML representation or trust the notebook. <br />On GitHub, the HTML representation is unable to render, please try loading this page with nbviewer.org.</b></div><div class=\"sk-container\" hidden><div class=\"sk-item\"><div class=\"sk-estimator sk-toggleable\"><input class=\"sk-toggleable__control sk-hidden--visually\" id=\"sk-estimator-id-3\" type=\"checkbox\" checked><label for=\"sk-estimator-id-3\" class=\"sk-toggleable__label sk-toggleable__label-arrow\">GaussianNB</label><div class=\"sk-toggleable__content\"><pre>GaussianNB()</pre></div></div></div></div></div>"
      ],
      "text/plain": [
       "GaussianNB()"
      ]
     },
     "execution_count": 26,
     "metadata": {},
     "output_type": "execute_result"
    }
   ],
   "source": [
    "from sklearn.naive_bayes import GaussianNB\n",
    "NB=GaussianNB()             \n",
    "NB.fit(xtrain,ytrain)"
   ]
  },
  {
   "cell_type": "code",
   "execution_count": 27,
   "id": "a01632e3",
   "metadata": {
    "scrolled": false
   },
   "outputs": [
    {
     "name": "stdout",
     "output_type": "stream",
     "text": [
      "[[3 0]\n",
      " [3 2]\n",
      " [2 2]\n",
      " [2 2]\n",
      " [2 2]\n",
      " [3 1]\n",
      " [2 2]\n",
      " [2 2]\n",
      " [3 1]\n",
      " [3 0]\n",
      " [2 2]\n",
      " [2 2]\n",
      " [2 0]\n",
      " [2 2]\n",
      " [2 0]\n",
      " [3 0]\n",
      " [2 2]\n",
      " [3 2]\n",
      " [3 0]\n",
      " [3 2]\n",
      " [2 2]\n",
      " [2 2]\n",
      " [3 1]\n",
      " [2 0]\n",
      " [2 2]\n",
      " [2 2]\n",
      " [2 0]\n",
      " [2 2]\n",
      " [2 2]\n",
      " [2 2]\n",
      " [2 2]\n",
      " [2 2]\n",
      " [2 2]\n",
      " [2 2]\n",
      " [2 1]\n",
      " [0 0]\n",
      " [3 2]\n",
      " [2 2]\n",
      " [2 2]\n",
      " [2 2]\n",
      " [3 0]\n",
      " [3 2]\n",
      " [3 0]\n",
      " [2 2]\n",
      " [2 2]\n",
      " [2 2]\n",
      " [3 0]\n",
      " [3 0]\n",
      " [3 2]\n",
      " [0 0]\n",
      " [2 0]\n",
      " [3 0]\n",
      " [2 2]\n",
      " [2 0]\n",
      " [2 2]\n",
      " [2 2]\n",
      " [0 2]\n",
      " [2 2]\n",
      " [2 2]\n",
      " [3 0]\n",
      " [2 2]\n",
      " [3 2]\n",
      " [2 0]\n",
      " [2 2]\n",
      " [3 0]\n",
      " [2 2]\n",
      " [3 2]\n",
      " [2 2]\n",
      " [2 2]\n",
      " [2 2]\n",
      " [2 2]\n",
      " [2 2]\n",
      " [2 2]\n",
      " [2 2]\n",
      " [3 1]\n",
      " [3 3]\n",
      " [2 2]\n",
      " [3 0]\n",
      " [2 2]\n",
      " [2 2]\n",
      " [3 0]\n",
      " [3 0]\n",
      " [3 0]\n",
      " [2 2]\n",
      " [3 0]\n",
      " [2 0]\n",
      " [2 2]\n",
      " [3 3]\n",
      " [2 2]\n",
      " [2 2]\n",
      " [3 2]\n",
      " [2 2]\n",
      " [3 2]\n",
      " [2 2]\n",
      " [3 2]\n",
      " [3 3]\n",
      " [0 0]\n",
      " [3 0]\n",
      " [2 2]\n",
      " [3 2]\n",
      " [2 2]\n",
      " [3 2]\n",
      " [2 2]\n",
      " [2 2]\n",
      " [3 3]\n",
      " [3 0]\n",
      " [2 2]\n",
      " [2 2]\n",
      " [2 0]\n",
      " [2 2]\n",
      " [2 2]\n",
      " [2 2]\n",
      " [3 2]\n",
      " [3 3]\n",
      " [2 2]\n",
      " [3 1]\n",
      " [2 2]\n",
      " [2 2]\n",
      " [2 2]\n",
      " [2 2]\n",
      " [2 2]\n",
      " [0 0]\n",
      " [0 2]\n",
      " [2 2]\n",
      " [2 2]\n",
      " [2 2]\n",
      " [3 2]\n",
      " [2 2]\n",
      " [2 1]\n",
      " [2 2]\n",
      " [2 2]\n",
      " [2 2]\n",
      " [3 3]\n",
      " [2 2]\n",
      " [3 2]\n",
      " [3 2]\n",
      " [2 2]\n",
      " [2 0]\n",
      " [2 0]\n",
      " [2 2]\n",
      " [2 2]\n",
      " [2 2]\n",
      " [3 2]\n",
      " [2 2]\n",
      " [2 2]\n",
      " [2 2]\n",
      " [2 2]\n",
      " [2 0]\n",
      " [2 2]\n",
      " [3 0]\n",
      " [3 3]\n",
      " [3 0]\n",
      " [2 0]\n",
      " [2 2]\n",
      " [2 2]\n",
      " [2 2]\n",
      " [3 2]\n",
      " [2 2]\n",
      " [2 2]\n",
      " [2 2]\n",
      " [2 0]\n",
      " [2 2]\n",
      " [2 2]\n",
      " [2 1]\n",
      " [2 2]\n",
      " [2 2]\n",
      " [2 0]\n",
      " [2 2]\n",
      " [2 2]\n",
      " [2 0]\n",
      " [2 2]\n",
      " [2 2]\n",
      " [2 2]\n",
      " [3 2]\n",
      " [3 3]\n",
      " [2 2]\n",
      " [2 2]\n",
      " [2 2]\n",
      " [2 2]\n",
      " [2 2]\n",
      " [2 2]\n",
      " [0 2]\n",
      " [2 2]\n",
      " [2 2]\n",
      " [2 2]\n",
      " [2 2]\n",
      " [2 2]\n",
      " [2 2]\n",
      " [2 2]\n",
      " [2 2]\n",
      " [2 2]\n",
      " [2 2]\n",
      " [2 2]\n",
      " [2 2]\n",
      " [2 2]\n",
      " [2 2]\n",
      " [2 2]\n",
      " [3 3]\n",
      " [3 2]\n",
      " [3 0]\n",
      " [2 2]\n",
      " [2 0]\n",
      " [2 2]\n",
      " [3 2]\n",
      " [3 2]\n",
      " [2 2]\n",
      " [2 2]\n",
      " [2 2]\n",
      " [2 2]\n",
      " [2 2]\n",
      " [2 2]\n",
      " [2 2]\n",
      " [2 2]\n",
      " [2 0]\n",
      " [2 2]\n",
      " [2 2]\n",
      " [2 2]\n",
      " [2 2]\n",
      " [2 2]\n",
      " [2 2]\n",
      " [2 2]\n",
      " [2 2]\n",
      " [2 0]\n",
      " [2 2]\n",
      " [2 2]\n",
      " [2 2]\n",
      " [2 0]\n",
      " [3 3]\n",
      " [2 0]\n",
      " [2 2]\n",
      " [0 0]\n",
      " [3 2]\n",
      " [3 0]\n",
      " [2 2]\n",
      " [3 0]\n",
      " [2 0]\n",
      " [3 0]\n",
      " [3 0]\n",
      " [2 2]\n",
      " [2 2]\n",
      " [2 2]\n",
      " [2 0]\n",
      " [3 2]\n",
      " [3 2]\n",
      " [3 1]\n",
      " [2 0]\n",
      " [2 2]\n",
      " [2 2]\n",
      " [3 2]\n",
      " [2 2]\n",
      " [2 2]\n",
      " [2 2]\n",
      " [3 1]\n",
      " [2 2]\n",
      " [2 2]\n",
      " [2 2]\n",
      " [3 0]\n",
      " [2 0]\n",
      " [2 2]\n",
      " [2 2]\n",
      " [3 1]\n",
      " [2 2]\n",
      " [3 2]\n",
      " [2 2]\n",
      " [2 2]\n",
      " [2 2]\n",
      " [2 2]\n",
      " [2 0]\n",
      " [3 0]\n",
      " [2 0]\n",
      " [2 2]\n",
      " [3 2]\n",
      " [3 0]\n",
      " [2 2]\n",
      " [2 2]\n",
      " [2 2]\n",
      " [2 0]\n",
      " [2 0]\n",
      " [3 0]\n",
      " [2 2]\n",
      " [2 2]\n",
      " [0 0]\n",
      " [3 0]\n",
      " [2 2]\n",
      " [2 2]\n",
      " [2 2]\n",
      " [2 2]\n",
      " [2 2]\n",
      " [3 3]\n",
      " [2 2]\n",
      " [2 2]\n",
      " [2 0]\n",
      " [2 2]\n",
      " [3 0]\n",
      " [2 2]\n",
      " [0 0]\n",
      " [2 2]\n",
      " [2 2]\n",
      " [2 2]\n",
      " [3 3]\n",
      " [2 2]\n",
      " [2 2]\n",
      " [2 2]\n",
      " [2 1]\n",
      " [3 3]\n",
      " [2 2]\n",
      " [3 3]\n",
      " [2 2]\n",
      " [2 2]\n",
      " [0 1]\n",
      " [3 1]\n",
      " [3 0]\n",
      " [3 2]\n",
      " [3 2]\n",
      " [3 0]\n",
      " [3 2]\n",
      " [3 2]\n",
      " [3 2]\n",
      " [2 2]\n",
      " [2 2]\n",
      " [3 2]\n",
      " [2 2]\n",
      " [3 0]\n",
      " [2 2]\n",
      " [2 2]\n",
      " [3 0]\n",
      " [3 0]\n",
      " [2 2]\n",
      " [2 0]\n",
      " [2 0]\n",
      " [2 2]\n",
      " [0 0]\n",
      " [3 3]\n",
      " [2 2]\n",
      " [3 3]\n",
      " [2 2]\n",
      " [3 2]\n",
      " [3 2]\n",
      " [2 2]\n",
      " [2 2]\n",
      " [2 2]\n",
      " [0 2]\n",
      " [3 2]\n",
      " [2 2]\n",
      " [3 2]\n",
      " [3 0]]\n"
     ]
    }
   ],
   "source": [
    "yestimatedNB=NB.predict(xtest)\n",
    "print(np.concatenate((yestimatedNB.reshape(len(yestimatedNB),1),ytest.reshape(len(ytest),1)),1))"
   ]
  },
  {
   "cell_type": "code",
   "execution_count": 28,
   "id": "99165f76",
   "metadata": {},
   "outputs": [
    {
     "name": "stdout",
     "output_type": "stream",
     "text": [
      "accuracy for NB classifier= 0.6358381502890174\n"
     ]
    }
   ],
   "source": [
    "print('accuracy for NB classifier=', accuracy_score(ytest,yestimatedNB)) "
   ]
  },
  {
   "cell_type": "markdown",
   "id": "f1199035",
   "metadata": {},
   "source": [
    "### Random Forest Classifier"
   ]
  },
  {
   "cell_type": "code",
   "execution_count": 29,
   "id": "329eacb4",
   "metadata": {},
   "outputs": [],
   "source": [
    "from sklearn.ensemble import RandomForestClassifier\n",
    "RFC=RandomForestClassifier(n_estimators=200, criterion='entropy', random_state=0)"
   ]
  },
  {
   "cell_type": "code",
   "execution_count": 30,
   "id": "3d5f00bd",
   "metadata": {},
   "outputs": [
    {
     "data": {
      "text/html": [
       "<style>#sk-container-id-4 {color: black;background-color: white;}#sk-container-id-4 pre{padding: 0;}#sk-container-id-4 div.sk-toggleable {background-color: white;}#sk-container-id-4 label.sk-toggleable__label {cursor: pointer;display: block;width: 100%;margin-bottom: 0;padding: 0.3em;box-sizing: border-box;text-align: center;}#sk-container-id-4 label.sk-toggleable__label-arrow:before {content: \"▸\";float: left;margin-right: 0.25em;color: #696969;}#sk-container-id-4 label.sk-toggleable__label-arrow:hover:before {color: black;}#sk-container-id-4 div.sk-estimator:hover label.sk-toggleable__label-arrow:before {color: black;}#sk-container-id-4 div.sk-toggleable__content {max-height: 0;max-width: 0;overflow: hidden;text-align: left;background-color: #f0f8ff;}#sk-container-id-4 div.sk-toggleable__content pre {margin: 0.2em;color: black;border-radius: 0.25em;background-color: #f0f8ff;}#sk-container-id-4 input.sk-toggleable__control:checked~div.sk-toggleable__content {max-height: 200px;max-width: 100%;overflow: auto;}#sk-container-id-4 input.sk-toggleable__control:checked~label.sk-toggleable__label-arrow:before {content: \"▾\";}#sk-container-id-4 div.sk-estimator input.sk-toggleable__control:checked~label.sk-toggleable__label {background-color: #d4ebff;}#sk-container-id-4 div.sk-label input.sk-toggleable__control:checked~label.sk-toggleable__label {background-color: #d4ebff;}#sk-container-id-4 input.sk-hidden--visually {border: 0;clip: rect(1px 1px 1px 1px);clip: rect(1px, 1px, 1px, 1px);height: 1px;margin: -1px;overflow: hidden;padding: 0;position: absolute;width: 1px;}#sk-container-id-4 div.sk-estimator {font-family: monospace;background-color: #f0f8ff;border: 1px dotted black;border-radius: 0.25em;box-sizing: border-box;margin-bottom: 0.5em;}#sk-container-id-4 div.sk-estimator:hover {background-color: #d4ebff;}#sk-container-id-4 div.sk-parallel-item::after {content: \"\";width: 100%;border-bottom: 1px solid gray;flex-grow: 1;}#sk-container-id-4 div.sk-label:hover label.sk-toggleable__label {background-color: #d4ebff;}#sk-container-id-4 div.sk-serial::before {content: \"\";position: absolute;border-left: 1px solid gray;box-sizing: border-box;top: 0;bottom: 0;left: 50%;z-index: 0;}#sk-container-id-4 div.sk-serial {display: flex;flex-direction: column;align-items: center;background-color: white;padding-right: 0.2em;padding-left: 0.2em;position: relative;}#sk-container-id-4 div.sk-item {position: relative;z-index: 1;}#sk-container-id-4 div.sk-parallel {display: flex;align-items: stretch;justify-content: center;background-color: white;position: relative;}#sk-container-id-4 div.sk-item::before, #sk-container-id-4 div.sk-parallel-item::before {content: \"\";position: absolute;border-left: 1px solid gray;box-sizing: border-box;top: 0;bottom: 0;left: 50%;z-index: -1;}#sk-container-id-4 div.sk-parallel-item {display: flex;flex-direction: column;z-index: 1;position: relative;background-color: white;}#sk-container-id-4 div.sk-parallel-item:first-child::after {align-self: flex-end;width: 50%;}#sk-container-id-4 div.sk-parallel-item:last-child::after {align-self: flex-start;width: 50%;}#sk-container-id-4 div.sk-parallel-item:only-child::after {width: 0;}#sk-container-id-4 div.sk-dashed-wrapped {border: 1px dashed gray;margin: 0 0.4em 0.5em 0.4em;box-sizing: border-box;padding-bottom: 0.4em;background-color: white;}#sk-container-id-4 div.sk-label label {font-family: monospace;font-weight: bold;display: inline-block;line-height: 1.2em;}#sk-container-id-4 div.sk-label-container {text-align: center;}#sk-container-id-4 div.sk-container {/* jupyter's `normalize.less` sets `[hidden] { display: none; }` but bootstrap.min.css set `[hidden] { display: none !important; }` so we also need the `!important` here to be able to override the default hidden behavior on the sphinx rendered scikit-learn.org. See: https://github.com/scikit-learn/scikit-learn/issues/21755 */display: inline-block !important;position: relative;}#sk-container-id-4 div.sk-text-repr-fallback {display: none;}</style><div id=\"sk-container-id-4\" class=\"sk-top-container\"><div class=\"sk-text-repr-fallback\"><pre>RandomForestClassifier(criterion=&#x27;entropy&#x27;, n_estimators=200, random_state=0)</pre><b>In a Jupyter environment, please rerun this cell to show the HTML representation or trust the notebook. <br />On GitHub, the HTML representation is unable to render, please try loading this page with nbviewer.org.</b></div><div class=\"sk-container\" hidden><div class=\"sk-item\"><div class=\"sk-estimator sk-toggleable\"><input class=\"sk-toggleable__control sk-hidden--visually\" id=\"sk-estimator-id-4\" type=\"checkbox\" checked><label for=\"sk-estimator-id-4\" class=\"sk-toggleable__label sk-toggleable__label-arrow\">RandomForestClassifier</label><div class=\"sk-toggleable__content\"><pre>RandomForestClassifier(criterion=&#x27;entropy&#x27;, n_estimators=200, random_state=0)</pre></div></div></div></div></div>"
      ],
      "text/plain": [
       "RandomForestClassifier(criterion='entropy', n_estimators=200, random_state=0)"
      ]
     },
     "execution_count": 30,
     "metadata": {},
     "output_type": "execute_result"
    }
   ],
   "source": [
    "RFC.fit(xtrain,ytrain)"
   ]
  },
  {
   "cell_type": "code",
   "execution_count": 31,
   "id": "77a46602",
   "metadata": {},
   "outputs": [],
   "source": [
    "yestimatedRFC=RFC.predict(xtest)"
   ]
  },
  {
   "cell_type": "code",
   "execution_count": 32,
   "id": "6f7f21ef",
   "metadata": {},
   "outputs": [
    {
     "name": "stdout",
     "output_type": "stream",
     "text": [
      "accuracy for Random Forest classifier= 0.976878612716763\n"
     ]
    }
   ],
   "source": [
    "print('accuracy for Random Forest classifier=', accuracy_score(ytest,yestimatedRFC))"
   ]
  },
  {
   "cell_type": "code",
   "execution_count": 33,
   "id": "fae09b31",
   "metadata": {},
   "outputs": [
    {
     "name": "stdout",
     "output_type": "stream",
     "text": [
      "[[ 73   0   4   0]\n",
      " [  1  10   0   3]\n",
      " [  0   0 239   0]\n",
      " [  0   0   0  16]]\n"
     ]
    }
   ],
   "source": [
    "cm=confusion_matrix(ytest, yestimatedRFC) #confusion matrix\n",
    "print(cm)"
   ]
  },
  {
   "cell_type": "code",
   "execution_count": 34,
   "id": "a1088c84",
   "metadata": {},
   "outputs": [],
   "source": [
    "##Random forest classifier has an accuracy of 97% while the accuracy of naive bayes classifier, logistic regression, decision tree are 63%, 69%, 96%. \n",
    "# We conclude that random forest gives higher accuracy among the above mentioned classifier"
   ]
  }
 ],
 "metadata": {
  "kernelspec": {
   "display_name": "Python 3 (ipykernel)",
   "language": "python",
   "name": "python3"
  },
  "language_info": {
   "codemirror_mode": {
    "name": "ipython",
    "version": 3
   },
   "file_extension": ".py",
   "mimetype": "text/x-python",
   "name": "python",
   "nbconvert_exporter": "python",
   "pygments_lexer": "ipython3",
   "version": "3.8.11"
  }
 },
 "nbformat": 4,
 "nbformat_minor": 5
}
